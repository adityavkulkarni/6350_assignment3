{
  "cells": [
    {
      "cell_type": "markdown",
      "source": [
        "# Assignment 3 Part 2: Analyzing Social Networks using GraphX/GraphFrame\n"
      ],
      "metadata": {
        "id": "kzAAJFwHbLdq"
      }
    },
    {
      "cell_type": "markdown",
      "metadata": {
        "id": "Dd6t0uFzuR4X"
      },
      "source": [
        "### Installing Spark and dependencies"
      ]
    },
    {
      "cell_type": "markdown",
      "metadata": {
        "id": "6apGVff5h4ca"
      },
      "source": [
        "Install Dependencies:\n",
        "\n",
        "\n",
        "1.   Java 8\n",
        "2.   Apache Spark with hadoop and\n",
        "3.   Findspark (used to locate the spark in the system)\n"
      ]
    },
    {
      "cell_type": "code",
      "execution_count": 1,
      "metadata": {
        "id": "OsNhTSOQFZAy"
      },
      "outputs": [],
      "source": [
        "!rm -rf spark-3.1.1-bin-hadoop3.2\n",
        "!apt-get install openjdk-8-jdk-headless -qq > /dev/null\n",
        "!pip install -q findspark pyspark"
      ]
    },
    {
      "cell_type": "markdown",
      "metadata": {
        "id": "C3x0ZRLxjMVr"
      },
      "source": [
        "Set Environment Variables:"
      ]
    },
    {
      "cell_type": "code",
      "execution_count": 2,
      "metadata": {
        "id": "sdOOq4twHN1K"
      },
      "outputs": [],
      "source": [
        "import os\n",
        "os.environ[\"JAVA_HOME\"] = \"/usr/lib/jvm/java-8-openjdk-amd64\""
      ]
    },
    {
      "cell_type": "markdown",
      "metadata": {
        "id": "h80DxqoaCbJK"
      },
      "source": [
        "### Installing GraphFrames"
      ]
    },
    {
      "cell_type": "code",
      "execution_count": 3,
      "metadata": {
        "colab": {
          "base_uri": "https://localhost:8080/",
          "height": 0
        },
        "id": "_PYxeVmcjt2A",
        "outputId": "51e40ca5-3e03-4848-ba85-bd3c9805b7f2"
      },
      "outputs": [
        {
          "output_type": "stream",
          "name": "stdout",
          "text": [
            "Requirement already satisfied: graphframes in /usr/local/lib/python3.10/dist-packages (0.6)\n",
            "Requirement already satisfied: numpy in /usr/local/lib/python3.10/dist-packages (from graphframes) (1.25.2)\n",
            "Requirement already satisfied: nose in /usr/local/lib/python3.10/dist-packages (from graphframes) (1.3.7)\n"
          ]
        }
      ],
      "source": [
        "!pip install graphframes"
      ]
    },
    {
      "cell_type": "code",
      "execution_count": 4,
      "metadata": {
        "colab": {
          "base_uri": "https://localhost:8080/",
          "height": 0
        },
        "id": "ImOiBbPIPRYI",
        "outputId": "115cdace-cfaf-4c33-ed1e-bc194baa63cb"
      },
      "outputs": [
        {
          "output_type": "stream",
          "name": "stdout",
          "text": [
            "  % Total    % Received % Xferd  Average Speed   Time    Time     Time  Current\n",
            "                                 Dload  Upload   Total   Spent    Left  Speed\n",
            "\r  0     0    0     0    0     0      0      0 --:--:-- --:--:-- --:--:--     0\r100  242k  100  242k    0     0  1204k      0 --:--:-- --:--:-- --:--:-- 1210k\n"
          ]
        }
      ],
      "source": [
        "!curl -L -o \"/usr/local/lib/python3.10/dist-packages/pyspark/jars/graphframes-0.8.2-spark3.3.2-s_2.11.jar\" https://repos.spark-packages.org/graphframes/graphframes/0.8.2-spark3.1-s_2.12/graphframes-0.8.2-spark3.1-s_2.12.jar"
      ]
    },
    {
      "cell_type": "markdown",
      "metadata": {
        "id": "w7Sj7RwYI3o4"
      },
      "source": [
        "### Downloading Wikipedia vote network\n",
        "\n",
        "Dataset link: https://snap.stanford.edu/data/wiki-Vote.html\n",
        "\n"
      ]
    },
    {
      "cell_type": "code",
      "execution_count": 6,
      "metadata": {
        "colab": {
          "base_uri": "https://localhost:8080/",
          "height": 0
        },
        "id": "XlUADalmGKC0",
        "outputId": "43f00e5c-dfc5-40d2-9e98-2d36ef6da350"
      },
      "outputs": [
        {
          "output_type": "stream",
          "name": "stdout",
          "text": [
            "--2024-07-20 15:20:19--  https://snap.stanford.edu/data/wiki-Vote.txt.gz\n",
            "Resolving snap.stanford.edu (snap.stanford.edu)... 171.64.75.80\n",
            "Connecting to snap.stanford.edu (snap.stanford.edu)|171.64.75.80|:443... connected.\n",
            "HTTP request sent, awaiting response... 200 OK\n",
            "Length: 290339 (284K) [application/x-gzip]\n",
            "Saving to: ‘wiki-Vote.txt.gz’\n",
            "\n",
            "wiki-Vote.txt.gz    100%[===================>] 283.53K  --.-KB/s    in 0.1s    \n",
            "\n",
            "2024-07-20 15:20:20 (1.87 MB/s) - ‘wiki-Vote.txt.gz’ saved [290339/290339]\n",
            "\n"
          ]
        }
      ],
      "source": [
        "!wget https://snap.stanford.edu/data/wiki-Vote.txt.gz\n",
        "!rm -f wiki-Vote.txt\n",
        "!gzip -d wiki-Vote.txt.gz"
      ]
    },
    {
      "cell_type": "markdown",
      "metadata": {
        "id": "gFFwZKE8DZ4E"
      },
      "source": [
        "### Importing libraries\n",
        "\n"
      ]
    },
    {
      "cell_type": "code",
      "execution_count": 7,
      "metadata": {
        "id": "Ywjvl-M1DZoR"
      },
      "outputs": [],
      "source": [
        "import findspark\n",
        "from pyspark.sql import SparkSession\n",
        "from graphframes import *\n",
        "from graphframes import GraphFrame\n",
        "from pyspark.sql.functions import desc"
      ]
    },
    {
      "cell_type": "markdown",
      "metadata": {
        "id": "VGIaDORNCi6v"
      },
      "source": [
        "### Starting Spark and loading the dataset\n",
        "\n"
      ]
    },
    {
      "cell_type": "code",
      "execution_count": 8,
      "metadata": {
        "id": "ar1W2F-fVd9G"
      },
      "outputs": [],
      "source": [
        "findspark.init()\n",
        "\n",
        "spark = (\n",
        "    SparkSession.builder\n",
        "    .config(\"spark.jars\", \"/usr/local/lib/python3.10/dist-packages/pyspark/jars/graphframes-0.8.2-spark3.3.2-s_2.11.jar\")\n",
        "    .getOrCreate()\n",
        "    )\n",
        "\n",
        "spark.conf.set(\"spark.sql.repl.eagerEval.enabled\", True)  # Property used to format output tables better\n",
        "spark.sparkContext.setCheckpointDir(\"/tmp\")"
      ]
    },
    {
      "cell_type": "code",
      "execution_count": 9,
      "metadata": {
        "id": "ITUI9W33JAg3"
      },
      "outputs": [],
      "source": [
        "data = (\n",
        "    spark\n",
        "    .sparkContext\n",
        "    .textFile(\"wiki-Vote.txt\")\n",
        "    .filter(lambda x: x[0] != \"#\")\n",
        "    .map(lambda x: (x.split(\"\\t\")[0], x.split(\"\\t\")[1]))\n",
        "    )"
      ]
    },
    {
      "cell_type": "code",
      "execution_count": 10,
      "metadata": {
        "id": "U7XI7bRGL_Qx",
        "colab": {
          "base_uri": "https://localhost:8080/",
          "height": 0
        },
        "outputId": "2db7a6eb-5e81-498c-ede1-60c16841a260"
      },
      "outputs": [
        {
          "output_type": "execute_result",
          "data": {
            "text/plain": [
              "[('30', '1412'),\n",
              " ('30', '3352'),\n",
              " ('30', '5254'),\n",
              " ('30', '5543'),\n",
              " ('30', '7478')]"
            ]
          },
          "metadata": {},
          "execution_count": 10
        }
      ],
      "source": [
        "data.take(5)"
      ]
    },
    {
      "cell_type": "code",
      "execution_count": 11,
      "metadata": {
        "id": "z7pMCs3CKC_6",
        "colab": {
          "base_uri": "https://localhost:8080/",
          "height": 0
        },
        "outputId": "a42bf2a2-aff7-47a5-a0d4-01c11beb1cde"
      },
      "outputs": [
        {
          "output_type": "stream",
          "name": "stdout",
          "text": [
            "+----+\n",
            "|  id|\n",
            "+----+\n",
            "|1412|\n",
            "|3352|\n",
            "|5254|\n",
            "|5543|\n",
            "|7478|\n",
            "+----+\n",
            "only showing top 5 rows\n",
            "\n"
          ]
        }
      ],
      "source": [
        "vertices =  spark.createDataFrame(data\n",
        "            .flatMap(lambda x: x)\n",
        "            .distinct()\n",
        "            .map(lambda x: (x,))\n",
        "            .collect(),\n",
        "             [\"id\"]\n",
        "            )\n",
        "vertices.show(5)"
      ]
    },
    {
      "cell_type": "code",
      "execution_count": 12,
      "metadata": {
        "id": "uBS4SfrhKeLr",
        "colab": {
          "base_uri": "https://localhost:8080/",
          "height": 0
        },
        "outputId": "33314e39-b719-41e3-c191-3ecbf5ed185c"
      },
      "outputs": [
        {
          "output_type": "stream",
          "name": "stdout",
          "text": [
            "+---+---+-----+\n",
            "|src|dst| type|\n",
            "+---+---+-----+\n",
            "|  3| 28|votes|\n",
            "|  3| 30|votes|\n",
            "|  3| 39|votes|\n",
            "|  3|152|votes|\n",
            "|  3|178|votes|\n",
            "+---+---+-----+\n",
            "only showing top 5 rows\n",
            "\n"
          ]
        }
      ],
      "source": [
        "edges = spark.createDataFrame(data\n",
        "        .flatMap(lambda x: [(x[0], x[1], \"votes\")])\n",
        "        .distinct()\n",
        "        .collect(),\n",
        "        [\"src\", \"dst\", \"type\"]\n",
        "        )\n",
        "edges.show(5)"
      ]
    },
    {
      "cell_type": "markdown",
      "metadata": {
        "id": "LQiuoejiNr2k"
      },
      "source": [
        "### Creating GraphFrame\n",
        "\n"
      ]
    },
    {
      "cell_type": "code",
      "execution_count": 13,
      "metadata": {
        "id": "LDUOSwwfNPIi",
        "colab": {
          "base_uri": "https://localhost:8080/",
          "height": 0
        },
        "outputId": "9b074523-13a1-47e8-be86-a6a93cd3ee8a"
      },
      "outputs": [
        {
          "output_type": "stream",
          "name": "stderr",
          "text": [
            "/usr/local/lib/python3.10/dist-packages/pyspark/sql/dataframe.py:168: UserWarning: DataFrame.sql_ctx is an internal property, and will be removed in future releases. Use DataFrame.sparkSession instead.\n",
            "  warnings.warn(\n"
          ]
        }
      ],
      "source": [
        "graph = GraphFrame(vertices, edges).cache()"
      ]
    },
    {
      "cell_type": "markdown",
      "metadata": {
        "id": "bJXmDXhNNkk9"
      },
      "source": [
        "### a. Find the top 5 nodes with the highest outdegree and find the count of the number of outgoing edges in each"
      ]
    },
    {
      "cell_type": "code",
      "execution_count": 14,
      "metadata": {
        "id": "UK96A1bGNbvu",
        "colab": {
          "base_uri": "https://localhost:8080/",
          "height": 0
        },
        "outputId": "850779b8-7ce8-45d7-bac3-0bc1dc5979ac"
      },
      "outputs": [
        {
          "output_type": "stream",
          "name": "stderr",
          "text": [
            "/usr/local/lib/python3.10/dist-packages/pyspark/sql/dataframe.py:147: UserWarning: DataFrame constructor is internal. Do not directly use it.\n",
            "  warnings.warn(\"DataFrame constructor is internal. Do not directly use it.\")\n"
          ]
        },
        {
          "output_type": "stream",
          "name": "stdout",
          "text": [
            "+----+---------+\n",
            "|  id|outDegree|\n",
            "+----+---------+\n",
            "|2565|      893|\n",
            "| 766|      773|\n",
            "|  11|      743|\n",
            "| 457|      732|\n",
            "|2688|      618|\n",
            "+----+---------+\n",
            "only showing top 5 rows\n",
            "\n"
          ]
        }
      ],
      "source": [
        "outDegree = (\n",
        "    graph\n",
        "    .outDegrees\n",
        "    .orderBy(desc(\"outDegree\"))\n",
        "    )\n",
        "outDegree.show(5)"
      ]
    },
    {
      "cell_type": "markdown",
      "metadata": {
        "id": "2UjklsqiOthI"
      },
      "source": [
        "### b. Find the top 5 nodes with the highest indegree and find the count of the number of incoming edges in each"
      ]
    },
    {
      "cell_type": "code",
      "execution_count": 15,
      "metadata": {
        "id": "Ia3Er6_QN8V9",
        "colab": {
          "base_uri": "https://localhost:8080/",
          "height": 0
        },
        "outputId": "eaf3d659-979a-45ad-f05f-628d3fd5b124"
      },
      "outputs": [
        {
          "output_type": "stream",
          "name": "stdout",
          "text": [
            "+----+--------+\n",
            "|  id|inDegree|\n",
            "+----+--------+\n",
            "|4037|     457|\n",
            "|  15|     361|\n",
            "|2398|     340|\n",
            "|2625|     331|\n",
            "|1297|     309|\n",
            "+----+--------+\n",
            "only showing top 5 rows\n",
            "\n"
          ]
        }
      ],
      "source": [
        "inDegree = (\n",
        "    graph\n",
        "    .inDegrees\n",
        "    .orderBy(desc(\"inDegree\"))\n",
        "    )\n",
        "inDegree.show(5)"
      ]
    },
    {
      "cell_type": "markdown",
      "metadata": {
        "id": "3gGy0_kSO55d"
      },
      "source": [
        "### c. Calculate PageRank for each of the nodes and output the top 5 nodes with the highest PageRank values. You are free to define any suitable parameters."
      ]
    },
    {
      "cell_type": "code",
      "execution_count": 16,
      "metadata": {
        "id": "7FLfa8tgOzAv",
        "colab": {
          "base_uri": "https://localhost:8080/",
          "height": 0
        },
        "outputId": "6bf5a12f-d999-4d30-ac17-8d86785802fc"
      },
      "outputs": [
        {
          "output_type": "stream",
          "name": "stdout",
          "text": [
            "+----+------------------+\n",
            "|  id|          pagerank|\n",
            "+----+------------------+\n",
            "|4037|32.594991861511566|\n",
            "|6634|29.983324850197288|\n",
            "|  15| 27.01099302107744|\n",
            "|2625|25.133148331225353|\n",
            "|2398|  20.3858798963518|\n",
            "+----+------------------+\n",
            "only showing top 5 rows\n",
            "\n"
          ]
        }
      ],
      "source": [
        "pageRank = (\n",
        "    graph\n",
        "    .pageRank(resetProbability=0.15, maxIter=5)\n",
        "    .vertices\n",
        "    .orderBy(desc(\"pagerank\"))\n",
        "    .select(\"id\", \"pagerank\")\n",
        "    )\n",
        "pageRank.show(5)"
      ]
    },
    {
      "cell_type": "markdown",
      "metadata": {
        "id": "wzBwlzS8PMWo"
      },
      "source": [
        "### d. Run the connected components algorithm on it and find the top 5 components with the largest number of nodes."
      ]
    },
    {
      "cell_type": "code",
      "execution_count": 17,
      "metadata": {
        "id": "FlZQOZD5PE_J",
        "colab": {
          "base_uri": "https://localhost:8080/",
          "height": 0
        },
        "outputId": "5fe6f6ed-ff7a-460e-c1c3-a4d38fc9e01f"
      },
      "outputs": [
        {
          "output_type": "stream",
          "name": "stdout",
          "text": [
            "+------------+-----+\n",
            "|   component|count|\n",
            "+------------+-----+\n",
            "|           0| 7066|\n",
            "|532575944741|    3|\n",
            "|592705486870|    3|\n",
            "|936302870556|    3|\n",
            "|103079215124|    2|\n",
            "+------------+-----+\n",
            "only showing top 5 rows\n",
            "\n"
          ]
        }
      ],
      "source": [
        "connectedComponents = (\n",
        "    graph\n",
        "    .connectedComponents()\n",
        "    .select(\"id\", \"component\")\n",
        "    .groupBy(\"component\")\n",
        "    .count()\n",
        "    .sort(desc(\"count\"))\n",
        "    )\n",
        "connectedComponents.show(5)"
      ]
    },
    {
      "cell_type": "code",
      "source": [
        "stronglyConnectedComponents = (\n",
        "    graph\n",
        "    .stronglyConnectedComponents(maxIter=5)\n",
        "    .select(\"id\", \"component\")\n",
        "    .groupBy(\"component\")\n",
        "    .count()\n",
        "    .sort(desc(\"count\"))\n",
        "    )\n",
        "stronglyConnectedComponents.show(5)"
      ],
      "metadata": {
        "colab": {
          "base_uri": "https://localhost:8080/",
          "height": 0
        },
        "id": "8CQk4Os4bvtj",
        "outputId": "4bcbe89e-5103-4480-ffce-9f733fd9396e"
      },
      "execution_count": 18,
      "outputs": [
        {
          "output_type": "stream",
          "name": "stdout",
          "text": [
            "+---------+-----+\n",
            "|component|count|\n",
            "+---------+-----+\n",
            "|        1| 1300|\n",
            "|       26|    1|\n",
            "|       19|    1|\n",
            "|        0|    1|\n",
            "|       22|    1|\n",
            "+---------+-----+\n",
            "only showing top 5 rows\n",
            "\n"
          ]
        }
      ]
    },
    {
      "cell_type": "markdown",
      "metadata": {
        "id": "9EHMr2EuPo3Z"
      },
      "source": [
        "### e. Run the triangle counts algorithm on each of the vertices and output the top 5 vertices with the largest triangle count. In case of ties, you can randomly select the top 5 vertices."
      ]
    },
    {
      "cell_type": "code",
      "execution_count": 19,
      "metadata": {
        "id": "GuqOHvSOPih7",
        "colab": {
          "base_uri": "https://localhost:8080/",
          "height": 0
        },
        "outputId": "d4bc7425-4466-4a20-af6b-9be28581ac5c"
      },
      "outputs": [
        {
          "output_type": "stream",
          "name": "stdout",
          "text": [
            "+----+-----+\n",
            "|  id|count|\n",
            "+----+-----+\n",
            "|2565|30940|\n",
            "|1549|22003|\n",
            "| 766|18204|\n",
            "|1166|17361|\n",
            "|2688|14220|\n",
            "+----+-----+\n",
            "only showing top 5 rows\n",
            "\n"
          ]
        }
      ],
      "source": [
        "triangleCount = (\n",
        "    graph\n",
        "    .triangleCount()\n",
        "    .select(\"id\", \"count\")\n",
        "    .orderBy(desc(\"count\"))\n",
        "    )\n",
        "triangleCount.show(5)"
      ]
    },
    {
      "cell_type": "markdown",
      "source": [
        "### Storing Output in files"
      ],
      "metadata": {
        "id": "WFn9zec5YMcG"
      }
    },
    {
      "cell_type": "code",
      "source": [
        "outDegree.coalesce(1).write.csv(\"outDegree\", header=True, mode=\"overwrite\")\n",
        "inDegree.coalesce(1).write.csv(\"inDegree\", header=True, mode=\"overwrite\")\n",
        "pageRank.coalesce(1).write.csv(\"pageRank\", header=True, mode=\"overwrite\")\n",
        "connectedComponents.coalesce(1).write.csv(\"connectedComponents\", header=True, mode=\"overwrite\")\n",
        "stronglyConnectedComponents.coalesce(1).write.csv(\"stronglyConnectedComponents\", header=True, mode=\"overwrite\")\n",
        "triangleCount.coalesce(1).write.csv(\"triangleCount\", header=True, mode=\"overwrite\")"
      ],
      "metadata": {
        "id": "DwH03td3eHte"
      },
      "execution_count": 20,
      "outputs": []
    }
  ],
  "metadata": {
    "colab": {
      "provenance": []
    },
    "kernelspec": {
      "display_name": "Python 3",
      "name": "python3"
    },
    "language_info": {
      "name": "python"
    }
  },
  "nbformat": 4,
  "nbformat_minor": 0
}